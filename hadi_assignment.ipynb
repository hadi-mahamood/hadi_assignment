{
  "nbformat": 4,
  "nbformat_minor": 0,
  "metadata": {
    "colab": {
      "provenance": []
    },
    "kernelspec": {
      "name": "python3",
      "display_name": "Python 3"
    },
    "language_info": {
      "name": "python"
    }
  },
  "cells": [
    {
      "cell_type": "code",
      "execution_count": null,
      "metadata": {
        "colab": {
          "base_uri": "https://localhost:8080/"
        },
        "id": "3FnzFAXVtIdc",
        "outputId": "3ad4b27a-0bba-49a1-819e-e61051802a9a"
      },
      "outputs": [
        {
          "output_type": "stream",
          "name": "stdout",
          "text": [
            "The area of the circle with the radius 8 is: 201.06192982974676\n"
          ]
        }
      ],
      "source": [
        "'''Write a Python program to find the area of a circle with a given radius using the formula area = pi * r ** 2. Assume that pi is 3.14.'''\n",
        "\n",
        "import math\n",
        "r=8\n",
        "area=math.pi*r**2\n",
        "print(\"The area of the circle with the radius\",r,\"is:\",area)"
      ]
    },
    {
      "cell_type": "code",
      "source": [
        "'''Write a Python program to convert Celsius to Fahrenheit using the formula F = (C * 9/5) + 32'''\n",
        "\n",
        "c=float(input(\"Enter the celsius:\"))\n",
        "f = (c * 9/5) + 32\n",
        "print(\"The temperature in Fahrenheit is:\", f)"
      ],
      "metadata": {
        "colab": {
          "base_uri": "https://localhost:8080/"
        },
        "id": "2jXmGzKNtOZA",
        "outputId": "ad095459-e2d2-462d-f35c-e384a181d26f"
      },
      "execution_count": null,
      "outputs": [
        {
          "output_type": "stream",
          "name": "stdout",
          "text": [
            "Enter the celsius:35\n",
            "The temperature in Fahrenheit is: 95.0\n"
          ]
        }
      ]
    },
    {
      "cell_type": "code",
      "source": [
        "'''Write a Python program to find the quotient and remainder of two numbers using the division operator / and the modulo operator %.'''\n",
        "\n",
        "a=int(input(\"Enter the first number:\"))\n",
        "b=int(input(\"Enter the second number:\"))\n",
        "quo=a/b\n",
        "rem=a%b\n",
        "print(\"The quotient of\",a,\"and\",b,\"is:\",quo)\n",
        "print(\"The remainder of\",a,\"and\",b,\"is:\",rem)"
      ],
      "metadata": {
        "colab": {
          "base_uri": "https://localhost:8080/"
        },
        "id": "xuLvuKzktP5A",
        "outputId": "4febad20-fe18-4405-de9b-48162c4aa12d"
      },
      "execution_count": null,
      "outputs": [
        {
          "output_type": "stream",
          "name": "stdout",
          "text": [
            "Enter the first number:4\n",
            "Enter the second number:5\n",
            "The quotient of 4 and 5 is: 0.8\n",
            "The remainder of 4 and 5 is: 4\n"
          ]
        }
      ]
    },
    {
      "cell_type": "code",
      "source": [
        "'''Write a Python program to find the quotient and remainder of two numbers using the division operator / and the modulo operator %.'''\n",
        "\n",
        "a=int(input(\"Enter the first number:\"))\n",
        "b=int(input(\"Enter the second number:\"))\n",
        "quo=a/b\n",
        "rem=a%b\n",
        "print(\"The quotient of\",a,\"and\",b,\"is:\",quo)\n",
        "print(\"The remainder of\",a,\"and\",b,\"is:\",rem)"
      ],
      "metadata": {
        "colab": {
          "base_uri": "https://localhost:8080/"
        },
        "id": "be05SikvtT3A",
        "outputId": "22fbdea1-df9b-44f8-99dc-b5d6538a7760"
      },
      "execution_count": null,
      "outputs": [
        {
          "output_type": "stream",
          "name": "stdout",
          "text": [
            "Enter the first number:5\n",
            "Enter the second number:3\n",
            "The quotient of 5 and 3 is: 1.6666666666666667\n",
            "The remainder of 5 and 3 is: 2\n"
          ]
        }
      ]
    },
    {
      "cell_type": "code",
      "source": [
        "'''Write a python program to check whether a given number is even or odd using the modulo operator %'''\n",
        "\n",
        "a=int(input(\"Enter the number:\"))\n",
        "if a%2==0:\n",
        "  print(\"It is even\")\n",
        "else:\n",
        "  print(\"It is odd\")\n"
      ],
      "metadata": {
        "colab": {
          "base_uri": "https://localhost:8080/"
        },
        "id": "VGSzrhA0tcYh",
        "outputId": "96cb876c-201a-46e9-e916-2d03f23955c3"
      },
      "execution_count": null,
      "outputs": [
        {
          "output_type": "stream",
          "name": "stdout",
          "text": [
            "Enter the number:5\n",
            "It is odd\n"
          ]
        }
      ]
    },
    {
      "cell_type": "code",
      "source": [
        "'''Write a Python program to calculate the average of three numbers entered by the user.'''\n",
        "\n",
        "a=int(input(\"Enter the first number:\"))\n",
        "b=int(input(\"Enter the second number:\"))\n",
        "c=int(input(\"Enter the third number:\"))\n",
        "avg=(a+b+c)/3\n",
        "print(\"The average of\",a,b,\"and\",c,\"is:\",avg)"
      ],
      "metadata": {
        "colab": {
          "base_uri": "https://localhost:8080/"
        },
        "id": "A7nwPVtRtdBp",
        "outputId": "22181184-a5cb-4b38-80c7-155823ed2b69"
      },
      "execution_count": null,
      "outputs": [
        {
          "output_type": "stream",
          "name": "stdout",
          "text": [
            "Enter the first number:5\n",
            "Enter the second number:5\n",
            "Enter the third number:6\n",
            "The average of 5 5 and 6 is: 5.333333333333333\n"
          ]
        }
      ]
    },
    {
      "cell_type": "code",
      "source": [
        "'''Write a program to swap two variables without using a temporary variable'''\n",
        "\n",
        "a=6\n",
        "b=6\n",
        "a=a+b\n",
        "b=a-b\n",
        "a=a-b\n",
        "print(\"The value of a is now =\", a)\n",
        "print(\"The value of b is now =\", b)"
      ],
      "metadata": {
        "colab": {
          "base_uri": "https://localhost:8080/"
        },
        "id": "akA0R119txEJ",
        "outputId": "94c4120a-6571-4ba3-bda3-9002302d8f81"
      },
      "execution_count": null,
      "outputs": [
        {
          "output_type": "stream",
          "name": "stdout",
          "text": [
            "The value of a is now = 6\n",
            "The value of b is now = 6\n"
          ]
        }
      ]
    },
    {
      "cell_type": "code",
      "source": [
        "'''Write a Python program to calculate the area of a rectangle with given length and breadth.'''\n",
        "\n",
        "l=90\n",
        "b=82\n",
        "area=l*b\n",
        "print(\"The area of the rectangle is:\",area)"
      ],
      "metadata": {
        "colab": {
          "base_uri": "https://localhost:8080/"
        },
        "id": "k-nMDOjpt4W4",
        "outputId": "d3d06199-9f64-4992-82d9-c04b7d47d554"
      },
      "execution_count": null,
      "outputs": [
        {
          "output_type": "stream",
          "name": "stdout",
          "text": [
            "The area of the rectangle is: 7380\n"
          ]
        }
      ]
    },
    {
      "cell_type": "code",
      "source": [
        "'''Write a Python program to calculate the sum of the digits of a three-digit number'''\n",
        "\n",
        "n=int(input(\"Enter a three-digit number:\"))\n",
        "if 99<n<1000:\n",
        "  sod=n % 10 + (n // 10) % 10 + n // 100\n",
        "  print(\"The sum of the digits is:\",sod)\n",
        "else:\n",
        "  print(\"The number must be a three-digit number.\")"
      ],
      "metadata": {
        "colab": {
          "base_uri": "https://localhost:8080/"
        },
        "id": "Lf-Bv0c2t5Cx",
        "outputId": "8f9e9fbf-3b36-4c71-9ec6-b227e32b6724"
      },
      "execution_count": null,
      "outputs": [
        {
          "output_type": "stream",
          "name": "stdout",
          "text": [
            "Enter a three-digit number:7\n",
            "The number must be a three-digit number.\n"
          ]
        }
      ]
    },
    {
      "cell_type": "code",
      "source": [
        "'''Write a Python program to check whether a given year is a leap year or not.'''\n",
        "\n",
        "yr=int(input(\"Enter a year:\"))\n",
        "if yr%4==0 and yr%100 !=0 or yr%400==0:\n",
        "  print(yr,\"is a leap year\")\n",
        "else:\n",
        "  print(yr,\"is not a leap year\")"
      ],
      "metadata": {
        "colab": {
          "base_uri": "https://localhost:8080/"
        },
        "id": "9qhdPt8Ot7vv",
        "outputId": "cfa0faa2-2f8f-440f-8723-441eca9a1860"
      },
      "execution_count": null,
      "outputs": [
        {
          "output_type": "stream",
          "name": "stdout",
          "text": [
            "Enter a year:2005\n",
            "2005 is not a leap year\n"
          ]
        }
      ]
    },
    {
      "cell_type": "code",
      "source": [
        "'''Write a Python program to find the maximum and minimum of two numbers entered by the user.'''\n",
        "\n",
        "import math\n",
        "a=int(input(\"Enter the first number:\"))\n",
        "b=int(input(\"Enter the second number:\"))\n",
        "if a>b:\n",
        "  max=a\n",
        "  min=b\n",
        "else:\n",
        "  max=b\n",
        "  min=a\n",
        "print(\"The maximum of\",a,\"and\",b,\"is:\",max)\n",
        "print(\"The minimum of\",a,\"and\",b,\"is:\",min)"
      ],
      "metadata": {
        "colab": {
          "base_uri": "https://localhost:8080/"
        },
        "id": "lYX1GM7MuAsC",
        "outputId": "5c7b0965-b3b2-413f-d927-e177768e10d3"
      },
      "execution_count": null,
      "outputs": [
        {
          "output_type": "stream",
          "name": "stdout",
          "text": [
            "Enter the first number:3\n",
            "Enter the second number:7\n",
            "The maximum of 3 and 7 is: 7\n",
            "The minimum of 3 and 7 is: 3\n"
          ]
        }
      ]
    }
  ]
}